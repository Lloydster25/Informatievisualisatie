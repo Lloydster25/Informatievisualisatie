{
 "cells": [
  {
   "cell_type": "markdown",
   "id": "3b46ee32",
   "metadata": {},
   "source": [
    "# Human Development, Gender Equality, and Suicide\n",
    "\n",
    "Student names: Mitch Boontjes, Lloyd de Rouw, Julian\n",
    "\n",
    "Team number: J4"
   ]
  },
  {
   "cell_type": "code",
   "execution_count": 1,
   "id": "e180382e",
   "metadata": {
    "tags": [
     "hide-input"
    ]
   },
   "outputs": [
    {
     "data": {
      "text/html": [
       "<img src=\"https://i0.wp.com/epthinktank.eu/wp-content/uploads/2022/06/AdobeStock_456540956.jpeg?fit=4865%2C3000&ssl=1\" width=\"600\" height=\"300\"/>"
      ],
      "text/plain": [
       "<IPython.core.display.Image object>"
      ]
     },
     "metadata": {},
     "output_type": "display_data"
    },
    {
     "name": "stdout",
     "output_type": "stream",
     "text": [
      "© European Parliamentary Research Service\n"
     ]
    }
   ],
   "source": [
    "# Load image from link\n",
    "url = 'https://i0.wp.com/epthinktank.eu/wp-content/uploads/2022/06/AdobeStock_456540956.jpeg?fit=4865%2C3000&ssl=1'\n",
    "\n",
    "# Display image from URL with smaller size and subtitle\n",
    "from IPython.display import Image, display\n",
    "\n",
    "# Set the desired image width and height\n",
    "width = 600\n",
    "height = 300\n",
    "\n",
    "# Set the subtitle text\n",
    "subtitle = \"© European Parliamentary Research Service\"\n",
    "\n",
    "# Create an Image instance with the URL\n",
    "image = Image(url=url, width=width, height=height)\n",
    "\n",
    "# Display the image and subtitle\n",
    "display(image)\n",
    "print(subtitle)"
   ]
  },
  {
   "cell_type": "markdown",
   "id": "7d5fce97-8e22-41ee-a19c-6c0f0fb2f08f",
   "metadata": {},
   "source": [
    "## Introduction"
   ]
  },
  {
   "cell_type": "markdown",
   "id": "7cf81853-c237-4df2-8ed4-9deae8423fb0",
   "metadata": {},
   "source": [
    "Democracy, (mental) health access, educational access are living conditions that are associated to be indicators of mental health. Many would say that an increase of these factors should lead to an increase of mental health, yet deeper analysis of these factors might lead to surprising conclusions. This data story will revolve around the inherent correlations between human development and suicide. Human development is a broad term, but it shall be analysed it based on three common indices, and seperated into three perspectives, which will be supported with 2/3 visualizations each. The Red Thread throughout the data story is the Humand Development Index (HDI), which is an index from 0 to 1 (low-high) that is based on education, life expectancy, and GDP per capita (income). Perspective 1 (Awareness Perspective) will revolve around how awareness (through phychiatrists/100k civilians) and the HDI in general influence national suicide rates. Perspective 2 (Sex perspectives) will delve deeper into correlations between the sexes (male/female), and analyse how an increase of the HDI might influence both. Aside from this, the Gender Development Index (GDI) will be introduced and analysed in the same way. Perspective 3 (Political Perspective) focuses on how political influences (government type, democracy, political violence) could influence national suicide (including a correlation between political indices and the HDI)."
   ]
  },
  {
   "cell_type": "markdown",
   "id": "d9d4c934-c639-495f-a2bc-ed078e5659c3",
   "metadata": {},
   "source": [
    "## Dataset and Preprocessing"
   ]
  },
  {
   "cell_type": "markdown",
   "id": "850c1744-f4cc-4cc1-b0a7-9207c75837d8",
   "metadata": {},
   "source": [
    "# Dataset 1\n",
    "Database 1 contains data of 185 countries, revolved around the Human Development Index (HDI)  of each country, measured in 2015 specifically. The HDI is a value between 0 and 1 (low-high) that indicates human development by looking at health, education, and standard of living. The database contains each variable that is considered for the HDI value, but we are only interested in the HDI values themselves. Thus, as for preprocessing, all columns except the country and its HDI value are removed. https://www.kaggle.com/datasets/undp/human-development?select=human_development.csv\n",
    "\n",
    "Database 2 is in terms of data-context identical to the first one, yet it revolves around the Gender Development Index (GDI), instead of the HDI. The GDI is also a value between 0 and 1 (low-high), that indicates equality in human development specifically between male and female. To clarify, the higher the gender equality, the higher the GDI value will be. Similarly to the preprocessing of database one, will all rows except the country and its GDI value be removed. https://www.kaggle.com/datasets/undp/human-development?select=human_development.csv\n",
    "\n",
    "Database 3 shows the suicide rate per 100k/civilians for 182 countries from the year 2000 up to 2019. This dataset is however reduced to the year 2015 only, as databases 1 and 2 are measured in that year. Databases 1,2,3 are then merged together into Dataset 1, and the columns are renamed to more practical names. Rows that include one or more ‘empty’ values are removed from the dataset. Dataset 1 is used for the Development Perspective. https://www.kaggle.com/datasets/sandragracenelson/suicide-rate-of-countries-per-every-year\n",
    "\n",
    "# Dataset 2&3\n",
    "Database 4 contains suicide rates for 183 countries for four years (2000, 2010, 2015, 2016). Each country accounts for three rows of data, one for male suicides, one for female, and one for both. This database is first merged together with the HDI and GDI statistics from Dataset 1. Then it is seperated into a female suicide dataset (dataset 2) and a male suicide dataset (dataset 3). This had to be done by changing the tags for 'female' and 'male' to FeM and Male (using str.contains() and str.replace()), as database 4 must have included some white spacing in between the tags, making it inpossible to simply seperate for 'female' and 'male'. Datasets 2&3 are used for the Gender Perspective exclusively. https://www.kaggle.com/datasets/twinkle0705/mental-health-and-suicide-rates?select=Age-standardized+suicide+rates.csv\n",
    "\n",
    "# Dataset 4\n",
    "Database 5 is a huge dataset that kept track of 200 countries and their reign information (41 columns) for each year available up to 2021. As we are interested in human development-related statistics, we select the variables government type, political violence, and the democracy boolean (1.0 for democracy, 0.0 for non-democracy). Seven countries from database 5 are renamed so that they can be correctly merged with dataset 1. For each country, the most recently included datapoint (by year) is selected, and then the year is dropped from the dataset. Finally some columns are renamed for clarity, and so that they can be merged with Dataset 1 in the Main Dataset. https://www.kaggle.com/datasets/janzasadny/rulers-elections-and-irregular-governance\n",
    "\n",
    "# Main Dataset \n",
    "The Main Dataset merges Dataset 1 and 4 together, which leaves a total of 140 countries and their data of HDI, GDI, Average Suicides from 2015, democracy status, government type, and political violence. This dataset is used for the Political Perspective.\n",
    "\n",
    "\n",
    "* Important to note that we have tagged unedited data structures as 'Databases 1-5'. Edited datasets are mentioned as 'Datasets 1-5-Main'."
   ]
  },
  {
   "cell_type": "markdown",
   "id": "cd8e8ba4",
   "metadata": {},
   "source": [
    "# Imports & Installs"
   ]
  },
  {
   "cell_type": "code",
   "execution_count": null,
   "id": "c7f95961",
   "metadata": {
    "tags": [
     "hide-output",
     "hide-input"
    ]
   },
   "outputs": [
    {
     "name": "stdout",
     "output_type": "stream",
     "text": [
      "/bin/bash: /home/lloyd/miniconda3/lib/libtinfo.so.6: no version information available (required by /bin/bash)\n",
      "\u001b[33mWARNING: Skipping /home/lloyd/miniconda3/envs/jupyterbook/lib/python3.11/site-packages/numpy-1.24.3.dist-info due to invalid metadata entry 'name'\u001b[0m\u001b[33m\n",
      "\u001b[0m\u001b[33mWARNING: Skipping /home/lloyd/miniconda3/envs/jupyterbook/lib/python3.11/site-packages/numpy-1.24.3.dist-info due to invalid metadata entry 'name'\u001b[0m\u001b[33m\n",
      "\u001b[0mRequirement already satisfied: numpy in /home/lloyd/miniconda3/envs/jupyterbook/lib/python3.11/site-packages (1.25.0)\n",
      "\u001b[33mWARNING: Skipping /home/lloyd/miniconda3/envs/jupyterbook/lib/python3.11/site-packages/numpy-1.24.3.dist-info due to invalid metadata entry 'name'\u001b[0m\u001b[33m\n",
      "\u001b[0m\u001b[33mWARNING: Skipping /home/lloyd/miniconda3/envs/jupyterbook/lib/python3.11/site-packages/numpy-1.24.3.dist-info due to invalid metadata entry 'name'\u001b[0m\u001b[33m\n",
      "\u001b[0m\u001b[33mWARNING: Skipping /home/lloyd/miniconda3/envs/jupyterbook/lib/python3.11/site-packages/numpy-1.24.3.dist-info due to invalid metadata entry 'name'\u001b[0m\u001b[33m\n",
      "\u001b[0m\u001b[33mWARNING: Skipping /home/lloyd/miniconda3/envs/jupyterbook/lib/python3.11/site-packages/numpy-1.24.3.dist-info due to invalid metadata entry 'name'\u001b[0m\u001b[33m\n",
      "\u001b[0m/bin/bash: /home/lloyd/miniconda3/lib/libtinfo.so.6: no version information available (required by /bin/bash)\n",
      "\u001b[33mWARNING: Skipping /home/lloyd/miniconda3/envs/jupyterbook/lib/python3.11/site-packages/numpy-1.24.3.dist-info due to invalid metadata entry 'name'\u001b[0m\u001b[33m\n",
      "\u001b[0m\u001b[33mWARNING: Skipping /home/lloyd/miniconda3/envs/jupyterbook/lib/python3.11/site-packages/numpy-1.24.3.dist-info due to invalid metadata entry 'name'\u001b[0m\u001b[33m\n",
      "\u001b[0mRequirement already satisfied: plotly in /home/lloyd/miniconda3/envs/jupyterbook/lib/python3.11/site-packages (5.15.0)\n",
      "Requirement already satisfied: tenacity>=6.2.0 in /home/lloyd/miniconda3/envs/jupyterbook/lib/python3.11/site-packages (from plotly) (8.2.2)\n",
      "Requirement already satisfied: packaging in /home/lloyd/miniconda3/envs/jupyterbook/lib/python3.11/site-packages (from plotly) (23.1)\n"
     ]
    }
   ],
   "source": [
    "!pip install -U numpy\n",
    "!pip install -U plotly\n",
    "!pip install -U pandas\n",
    "!pip install -U matplotlib\n",
    "!pip install -U seaborn\n",
    "!pip install -U geopandas\n",
    "!pip install -U matplotlib \n",
    "!pip install -U ipywidgets"
   ]
  },
  {
   "cell_type": "markdown",
   "id": "d5010a07-96a0-45a7-ba76-250a56053f62",
   "metadata": {},
   "source": [
    "## Awareness Perspective "
   ]
  },
  {
   "cell_type": "markdown",
   "id": "1f26b1fd",
   "metadata": {},
   "source": [
    "This perspective focuses on the relationship between improvements of living conditions through the HDI. Our conclusion is stated as the following: 'Increases in healthly living conditions and mental health awareness will lead to a decrease in suicide.'\n",
    "The living conditions are measured for each country seperately based on their corresponding HDI, and the mental health awareness will be measured through the amount of psychiatrists/100k civilians. "
   ]
  },
  {
   "cell_type": "markdown",
   "id": "a43c3ae1-48d8-4663-8525-7d92fae83483",
   "metadata": {},
   "source": [
    "### Arguments for the Awareness Perspective"
   ]
  },
  {
   "cell_type": "markdown",
   "id": "a44acbb2-6dbc-4cb9-ba26-7ba3fb19af5d",
   "metadata": {},
   "source": [
    "All factors of the human development index (education, life expectancy, gdp per capita) should contribute to less reasons for suicide. Access to education might set goals and purposes in life, which are known factors to an increase of a 'will to live'. Furthermore, higher life expectancies quite obviously indicate healthier lifestyles, less dangerous surroundings and better healthcare, which should result in more 'comfortable' lifes. Lastly, gdp per capita indicate wealthier lives, which often lead to more healthcare access and comfort in general."
   ]
  },
  {
   "cell_type": "code",
   "execution_count": null,
   "id": "5a242e18",
   "metadata": {
    "tags": [
     "hide-input"
    ]
   },
   "outputs": [],
   "source": [
    "import pandas as pd\n",
    "import numpy as np\n",
    "import plotly.graph_objects as go\n",
    "\n",
    "df = pd.read_csv('databases/IV DATASET 1.csv')\n",
    "hdi = df['HDI 2015']\n",
    "average_suicide = df['Average suicide 2015']\n",
    "\n",
    "# Convert to NumPy arrays\n",
    "hdi = np.array(hdi)\n",
    "average_suicide = np.array(average_suicide)\n",
    "\n",
    "# Exclude NaN and inf values\n",
    "valid_indices = np.isfinite(hdi) & np.isfinite(average_suicide)\n",
    "hdi = hdi[valid_indices]\n",
    "average_suicide = average_suicide[valid_indices]\n",
    "\n",
    "# Calculate mean values\n",
    "mean_hdi = np.mean(hdi)\n",
    "mean_average_suicide = np.mean(average_suicide)\n",
    "\n",
    "# Calculate the least squares regression line\n",
    "A = np.vstack([hdi, np.ones(len(hdi))]).T\n",
    "m, c = np.linalg.lstsq(A, average_suicide, rcond=None)[0]\n",
    "\n",
    "# Create scatter plot\n",
    "fig = go.Figure(data=go.Scatter(x=hdi, y=average_suicide, mode='markers', name='Countries'))\n",
    "\n",
    "# Add the least squares trendline\n",
    "fig.add_trace(go.Scatter(x=hdi, y=m * hdi + c, mode='lines', name='Least Squares Trendline'))\n",
    "\n",
    "# Set labels and title\n",
    "fig.update_layout(\n",
    "    xaxis_title='HDI',\n",
    "    yaxis_title='Average Suicide',\n",
    "    title='HDI vs. Average Suicide'\n",
    ")\n",
    "\n",
    "# Show the plot\n",
    "fig.show()"
   ]
  },
  {
   "cell_type": "markdown",
   "id": "f07d4a62-ad4f-4fd3-84ad-3540363a03fb",
   "metadata": {},
   "source": [
    "> *Figure 1: Human Development Index c.a. 2015 on X-axis. Average suicides per 100k civilians (as measured in 2015) on Y-axis. Blue dots represent the countries and their corresponding data. (Least Squared) Trendline shows the (small) negative correlation between the HDI and average suicides. In the charts you can make out that there exist a relationship between the HDI and the average suicide rate."
   ]
  },
  {
   "cell_type": "markdown",
   "id": "d42bd1f8",
   "metadata": {},
   "source": [
    "The trendline in the scatterplot above proves the hypothesis that we had formed, which is that an increase in HDI will lead to a decrease in average suicides. The trendline might not seem steep at first sight, but when zoomed in on the lower half of the graph, the correlation becomes more evident. Starting from around 15 suicides/100k at a HDI of 0.35, the trendline ends at 8.2 suicides/100k at a HDI of 0.94 , which is nearly twice at less."
   ]
  },
  {
   "cell_type": "code",
   "execution_count": null,
   "id": "62bfd307",
   "metadata": {
    "tags": [
     "hide-input"
    ]
   },
   "outputs": [],
   "source": [
    "import geopandas as gpd\n",
    "import pandas as pd\n",
    "import plotly.express as px\n",
    "from ipywidgets import interact\n",
    "\n",
    "# Step 3: Load the shapefile or GeoJSON file\n",
    "shapefile_path = 'countries_map/countries.shp'\n",
    "shapefile_data = gpd.read_file(shapefile_path)\n",
    "\n",
    "# Step 4: Load the CSV data\n",
    "csv_file_path = 'databases/IV DATASET 1.csv'\n",
    "csv_data = pd.read_csv(csv_file_path)\n",
    "\n",
    "# Renaming Countries in shapefile data that they match to our .csv file\n",
    "shapefile_data.loc[shapefile_data['NAME'] == 'United States of America', 'NAME'] = 'United States'\n",
    "shapefile_data.loc[shapefile_data['NAME'] == 'Russia', 'NAME'] = 'Russian Federation'\n",
    "shapefile_data.loc[shapefile_data['NAME'] == 'Dem. Rep. Congo', 'NAME'] = 'Congo (Democratic Republic of the)'\n",
    "shapefile_data.loc[shapefile_data['NAME'] == 'Iran', 'NAME'] = 'Iran (Islamic Republic of)'\n",
    "shapefile_data.loc[shapefile_data['NAME'] == 'Tanzania', 'NAME'] = 'Tanzania (United Republic of)'\n",
    "shapefile_data.loc[shapefile_data['NAME'] == 'South Korea', 'NAME'] = 'Korea (Republic of)'\n",
    "shapefile_data.loc[shapefile_data['NAME'] == 'Venezuela', 'NAME'] = 'Venezuela (Bolivarian Republic of)'\n",
    "shapefile_data.loc[shapefile_data['NAME'] == 'Bolivia', 'NAME'] = 'Bolivia (Plurinational State of)'\n",
    "shapefile_data.loc[shapefile_data['NAME'] == 'Venezuela', 'NAME'] = 'Venezuela (Bolivarian Republic of)'\n",
    "shapefile_data.loc[shapefile_data['NAME'] == 'Laos', 'NAME'] = \"Lao People's Democratic Republic\"\n",
    "\n",
    "# Step 5: Merge shapefile data with CSV data using country names\n",
    "merged_data = shapefile_data.merge(csv_data, left_on='NAME', right_on='Country', how='left')\n",
    "\n",
    "# Step 6: Remove outliers based on IQR\n",
    "Q1 = merged_data['Average suicide 2015'].quantile(0.25)\n",
    "Q3 = merged_data['Average suicide 2015'].quantile(0.90)\n",
    "IQR = Q3 - Q1\n",
    "lower_bound = Q1 - 1.5 * IQR\n",
    "upper_bound = Q3 + 1.5 * IQR\n",
    "filtered_data = merged_data[\n",
    "    (merged_data['Average suicide 2015'] >= lower_bound) &\n",
    "    (merged_data['Average suicide 2015'] <= upper_bound)\n",
    "]\n",
    "\n",
    "# Define the function to update the map based on the selected index\n",
    "def update_map(index):\n",
    "    if index == 0:\n",
    "        column_name = 'HDI 2015'\n",
    "        title = 'HDI 2015 Worldwide'\n",
    "    elif index == 1:\n",
    "        column_name = 'Average suicide 2015'\n",
    "        title = 'Average Suicides/100k Worldwide, 2015'\n",
    "    \n",
    "    fig = px.choropleth(\n",
    "        filtered_data,\n",
    "        geojson=filtered_data.geometry,\n",
    "        locations=filtered_data.index,\n",
    "        color=column_name,\n",
    "        color_continuous_scale='YlOrRd',\n",
    "        range_color=(0, 1),  # Update the range from 0 to 1\n",
    "        projection=\"natural earth\"\n",
    "    )\n",
    "    \n",
    "    fig.update_layout(\n",
    "        title=title,\n",
    "        coloraxis_colorbar=dict(\n",
    "            title=column_name,\n",
    "            len=0.8,\n",
    "            thickness=20,\n",
    "            ypad=0,\n",
    "            yanchor=\"top\",\n",
    "            ticks=\"outside\",\n",
    "            tickvals=[0, 1],  # Update the tick values to 0 and 1\n",
    "            ticktext=['0', '1']  # Update the tick text labels to '0' and '1'\n",
    "        ),\n",
    "        geo=dict(\n",
    "            showframe=False,\n",
    "            showcoastlines=False,\n",
    "            projection_type=\"natural earth\"\n",
    "        )\n",
    "    )\n",
    "\n",
    "    fig.show()\n",
    "\n",
    "# Use the interact function to create the interactive widget\n",
    "interact(update_map, index=[('HDI', 0), ('Average Suicides/100k', 1)])"
   ]
  },
  {
   "cell_type": "markdown",
   "id": "62e26829-3d0d-4ee7-b88b-a7dc22849fd1",
   "metadata": {},
   "source": [
    "> *Figure 2: The visualization above shows a world map with the HDI and the average suicide rate of countries with available data. It is possible to switch between a HDI and a suicide rate map. The darker shade of red the country is, the higher the HDI or suicide rate is."
   ]
  },
  {
   "cell_type": "markdown",
   "id": "be2e96b5-34b9-4070-a924-b2e275d53293",
   "metadata": {},
   "source": [
    "In the world map, a clear trend can be observed wherein countries with higher Human Development Index (HDI) tend to exhibit higher suicide rates. This correlation can be attributed to the availability of education and economic opportunities within a country. Regions such as West Europe, North America, and Oceania, which appear darker on the HDI world map, are widely recognized for their advanced educational systems and robust economic opportunities. A higher HDI often indicates access to quality education and favorable economic conditions, which enable individuals to establish meaningful objectives and goals in their lives. Consequently, people in these regions are less likely to experience suicidal thoughts.\n",
    "\n",
    "Conversely, countries that appear lighter on the HDI map, predominantly in Africa, the Middle East, and Latin America, often exhibit lower levels of economic opportunities and education. The lack of economic prospects and limited access to quality education can hinder individuals in setting goals and finding purpose in their lives. This, in turn, contributes to a higher prevalence of individuals experiencing difficulties in finding meaning and fulfillment, potentially increasing the likelihood of suicidal thoughts.\n",
    "\n",
    "Therefore, the observed relationship between HDI and suicide rates suggests that the availability of education and economic opportunities plays a crucial role in individuals' well-being and mental health. Enhancing educational systems and promoting economic growth in regions with lower HDI values could potentially contribute to reducing the incidence of suicidal thoughts and improving overall quality of life.\n",
    "\n",
    "**Overall, the relationship between HDI and suicide rates is complex. There are many other factors that contribute to this relationship, such as cultural or social aspects.**\n"
   ]
  },
  {
   "cell_type": "markdown",
   "id": "e0a5e8f3-eed9-4965-a85d-05a296514ca0",
   "metadata": {},
   "source": [
    " # GENDER PERSPECTIVE"
   ]
  },
  {
   "cell_type": "markdown",
   "id": "bb01e374",
   "metadata": {},
   "source": [
    "This part of the data story, will look at the relationship between the Gender Development Index (GDI), the HDI, and suicide rates. Equility between male and female living conditions is generally considered as a sign of a country's development, and is thus within the scope of our analysis. The Gender Development Index (GDI) stipulates the differences in the HDI for men and women. Contrary to the HDI, the GDI is able to raise above 1.0, which indicates a higher HDI for women, whereas a score below 1.0 means a higher HDI for men. Despite the idea that the GDI supports development, we expect there to be large differences in how they effect male- and female suicides."
   ]
  },
  {
   "cell_type": "markdown",
   "id": "dd08b2ff",
   "metadata": {},
   "source": [
    "## Arguments for the Gender Perspective."
   ]
  },
  {
   "cell_type": "markdown",
   "id": "7453f31f",
   "metadata": {},
   "source": [
    "Firstly, the most logical correlation we expect to see is that with an increase of GDI, the female suicides will marginally drop. The explanation for this seems obvious, as with a global history of better living conditions for men, female improvement in quality of life should follow with an increase of a higher GDI, which would lead to a drop in suicides. For men, however, the suicides are expected to increase as, aside from better living conditions for women, an increase of GDI might also mean that living conditions for men are decreasing. Aside from this, with an upcoming of equality, men's traditional roles in society are challenged, which could lead to confusion in purpose in life and thereby more depressive and suicidal thoughts.\n",
    "\n",
    "Secondly, the increase in HDI is expected to be irrelevant to differences between male- and female suicides, as they improve living conditions for both sexes."
   ]
  },
  {
   "cell_type": "code",
   "execution_count": null,
   "id": "7de76f3d",
   "metadata": {
    "tags": [
     "hide-input"
    ]
   },
   "outputs": [],
   "source": [
    "import pandas as pd\n",
    "import numpy as np\n",
    "import plotly.graph_objects as go\n",
    "from plotly.subplots import make_subplots\n",
    "\n",
    "df = pd.read_csv('databases/DATABASE 4.csv')\n",
    "df1 = pd.read_csv('databases/IV DATASET 1.csv')\n",
    "df1 = df1[['Country', 'GDI 2015', 'HDI 2015']]\n",
    "df = pd.merge(df, df1, on='Country')\n",
    "\n",
    "df['Sex'] = df['Sex'].str.replace('female', 'F').str.replace('male', 'M')\n",
    "\n",
    "female_suicides = df[df['Sex'].str.contains('fem', case=False)]\n",
    "male_suicides = df[df['Sex'].str.contains('male', case=False)]\n",
    "\n",
    "female_suicides_2015 = female_suicides[['Country', '2015', 'GDI 2015', 'HDI 2015']]\n",
    "male_suicides_2015 = male_suicides[['Country', '2015', 'GDI 2015', 'HDI 2015']]\n",
    "\n",
    "# Merge female and male datasets on Country\n",
    "merged_data = pd.merge(female_suicides_2015, male_suicides_2015, on='Country', suffixes=('_Female', '_Male'))\n",
    "\n",
    "# Select the relevant columns for HDI, GDI, and suicide rates\n",
    "data = merged_data[['Country', 'HDI 2015_Female', 'HDI 2015_Male', 'GDI 2015_Female', 'GDI 2015_Male', '2015_Female', '2015_Male']]\n",
    "\n",
    "# Calculate trendlines for HDI (female and male)\n",
    "z_hdi_female = np.polyfit(data['HDI 2015_Female'], data['2015_Female'], 1)\n",
    "p_hdi_female = np.poly1d(z_hdi_female)\n",
    "\n",
    "z_hdi_male = np.polyfit(data['HDI 2015_Male'], data['2015_Male'], 1)\n",
    "p_hdi_male = np.poly1d(z_hdi_male)\n",
    "\n",
    "# Calculate trendlines for GDI (female and male)\n",
    "z_gdi_female = np.polyfit(data['GDI 2015_Female'], data['2015_Female'], 1)\n",
    "p_gdi_female = np.poly1d(z_gdi_female)\n",
    "\n",
    "z_gdi_male = np.polyfit(data['GDI 2015_Male'], data['2015_Male'], 1)\n",
    "p_gdi_male = np.poly1d(z_gdi_male)\n",
    "\n",
    "# Create plotly scatter plots for GDI and HDI\n",
    "fig = make_subplots(rows=1, cols=2, subplot_titles=['Relationship between GDI and Suicide Rate', 'Relationship between HDI and Suicide Rate'])\n",
    "\n",
    "# Scatter plot for GDI\n",
    "fig.add_trace(go.Scatter(\n",
    "    x=data['GDI 2015_Female'],\n",
    "    y=data['2015_Female'],\n",
    "    mode='markers',\n",
    "    marker=dict(color='red'),\n",
    "    name='Female'\n",
    "), row=1, col=1)\n",
    "\n",
    "fig.add_trace(go.Scatter(\n",
    "    x=data['GDI 2015_Male'],\n",
    "    y=data['2015_Male'],\n",
    "    mode='markers',\n",
    "    marker=dict(color='blue'),\n",
    "    name='Male'\n",
    "), row=1, col=1)\n",
    "\n",
    "# Trendline for GDI\n",
    "gdi_range = np.linspace(data['GDI 2015_Female'].min(), data['GDI 2015_Female'].max(), 100)\n",
    "fig.add_trace(go.Scatter(\n",
    "    x=gdi_range,\n",
    "    y=p_gdi_female(gdi_range),\n",
    "    mode='lines',\n",
    "    line=dict(color='red', dash='dash'),\n",
    "    showlegend=False\n",
    "), row=1, col=1)\n",
    "\n",
    "fig.add_trace(go.Scatter(\n",
    "    x=gdi_range,\n",
    "    y=p_gdi_male(gdi_range),\n",
    "    mode='lines',\n",
    "    line=dict(color='blue', dash='dash'),\n",
    "    showlegend=False\n",
    "), row=1, col=1)\n",
    "\n",
    "fig.update_xaxes(title_text='GDI 2015', row=1, col=1)\n",
    "fig.update_yaxes(title_text='Average Suicide Rate (2015)', row=1, col=1)\n",
    "\n",
    "# Scatter plot for HDI\n",
    "fig.add_trace(go.Scatter(\n",
    "    x=data['HDI 2015_Female'],\n",
    "    y=data['2015_Female'],\n",
    "    mode='markers',\n",
    "    marker=dict(color='red'),\n",
    "    name='Female'\n",
    "), row=1, col=2)\n",
    "\n",
    "fig.add_trace(go.Scatter(\n",
    "    x=data['HDI 2015_Male'],\n",
    "    y=data['2015_Male'],\n",
    "    mode='markers',\n",
    "    marker=dict(color='blue'),\n",
    "    name='Male'\n",
    "), row=1, col=2)\n",
    "\n",
    "# Trendline for HDI\n",
    "hdi_range = np.linspace(data['HDI 2015_Female'].min(), data['HDI 2015_Female'].max(), 100)\n",
    "fig.add_trace(go.Scatter(\n",
    "    x=hdi_range,\n",
    "    y=p_hdi_female(hdi_range),\n",
    "    mode='lines',\n",
    "    line=dict(color='red', dash='dash'),\n",
    "    showlegend=False\n",
    "), row=1, col=2)\n",
    "\n",
    "fig.add_trace(go.Scatter(\n",
    "    x=hdi_range,\n",
    "    y=p_hdi_male(hdi_range),\n",
    "    mode='lines',\n",
    "    line=dict(color='blue', dash='dash'),\n",
    "    showlegend=False\n",
    "), row=1, col=2)\n",
    "\n",
    "fig.update_xaxes(title_text='HDI 2015', row=1, col=2)\n",
    "fig.update_yaxes(title_text='Average Suicide Rate (2015)', row=1, col=2)\n",
    "\n",
    "fig.update_layout(showlegend=True)\n",
    "\n",
    "# Display the plot\n",
    "fig.show()\n"
   ]
  },
  {
   "cell_type": "markdown",
   "id": "dbf82375-b2e8-4a22-b5a9-2c45b960d08a",
   "metadata": {},
   "source": [
    "> *Figure 3a: Gender Development Index c.a. 2015 in X-axis. Average suicide rate (2015) per 100k civilians on Y-axis. Blue dots represent male suicides / red dots represent female suicides. Blue (Least Squared) trendline shows a significant positive correlation between GDI and male suicide. Red (Least Squared) trendline shows a (small) negative correlation between GDI and female suicide. \n",
    "\n",
    "> *Figure 3b: Human Development Index c.a. 2015 in X-axis. Average suicide rate (2015) per 100k civilians on Y-axis. Blue dots represent male suicides / red dots represent female suicides. Blue (Least Squared) trendline shows a (very small) positive correlation between HDI and male suicide. Red (Least Squared) trendline shows a (small) negative correlation between HDI and female suicide. "
   ]
  },
  {
   "cell_type": "markdown",
   "id": "c0bcecf9-e17c-477a-a229-55277d48fe64",
   "metadata": {},
   "source": [
    "Figure 3a clearly shows the expected decrease in female suicide in the red trendline (8.5 suicides/100k on 0.6 GDI - 5.3/100k suicides on 1.03 GDI). But an even stronger correlation is shown between GDI and male suicides. The blue trendline, which starts at a mere 4.8/100k suicides at a GDI of 6, goes all the way up to 18.1/100k suicides at a GDI of 1.03. This is more than three times as much, and therefore clearly supports the idea that an increase of GDI indicates an increase in male suicide.\n",
    "\n",
    "The female trendlien in Figure 3b slightly deviates from our hypothesis and shows that an increase in HDI corresponds with a decrease in female suicide, starting from 8.37 suicides/100k (0.35 HDI) and ending at 3.2 suicides/100k (0.94 HDI). For men, however, the trendline stays relitively flat, and thereby stipulates no correlation. It therefore seems that an increase in HDI mostly improves female living conditions, while leaving male living conditions unchanged."
   ]
  },
  {
   "cell_type": "code",
   "execution_count": null,
   "id": "982ff45f",
   "metadata": {
    "tags": [
     "hide-input"
    ]
   },
   "outputs": [],
   "source": [
    "import pandas as pd\n",
    "import plotly.graph_objects as go\n",
    "\n",
    "# Read the dataset\n",
    "males = pd.read_csv('databases/IV DATASET 3.csv')\n",
    "females = pd.read_csv('databases/IV DATASET 2.csv')\n",
    "\n",
    "males['HDI Classification'] = males['HDI 2015'].apply(lambda x: 'HD' if x >= 0.85 else 'LD')\n",
    "females['HDI Classification'] = females['HDI 2015'].apply(lambda x: 'HD' if x >= 0.85 else 'LD')\n",
    "males['GDI Classification'] = males['GDI 2015'].apply(lambda x: 'HD' if x >= 0.97 else 'LD')\n",
    "females['GDI Classification'] = females['GDI 2015'].apply(lambda x: 'HD' if x >= 0.97 else 'LD')\n",
    "\n",
    "# Group the data by HDI and GDI classifications for males\n",
    "hh_df_m = males[(males['HDI Classification'] == 'HD') & (males['GDI Classification'] == 'HD')]\n",
    "hl_df_m = males[(males['HDI Classification'] == 'HD') & (males['GDI Classification'] == 'LD')]\n",
    "lh_df_m = males[(males['HDI Classification'] == 'LD') & (males['GDI Classification'] == 'HD')]\n",
    "ll_df_m = males[(males['HDI Classification'] == 'LD') & (males['GDI Classification'] == 'LD')]\n",
    "\n",
    "# Group the data by HDI and GDI classifications for females\n",
    "hh_df_f = females[(females['HDI Classification'] == 'HD') & (females['GDI Classification'] == 'HD')]\n",
    "hl_df_f = females[(females['HDI Classification'] == 'HD') & (females['GDI Classification'] == 'LD')]\n",
    "lh_df_f = females[(females['HDI Classification'] == 'LD') & (females['GDI Classification'] == 'HD')]\n",
    "ll_df_f = females[(females['HDI Classification'] == 'LD') & (females['GDI Classification'] == 'LD')]\n",
    "\n",
    "# Extract the necessary columns for plotting\n",
    "years = ['2000', '2010', '2015']\n",
    "male_hh = hh_df_m[years].mean()\n",
    "male_hl = hl_df_m[years].mean()\n",
    "male_lh = lh_df_m[years].mean()\n",
    "male_ll = ll_df_m[years].mean()\n",
    "female_hh = hh_df_f[years].mean()\n",
    "female_hl = hl_df_f[years].mean()\n",
    "female_lh = lh_df_f[years].mean()\n",
    "female_ll = ll_df_f[years].mean()\n",
    "\n",
    "# Define color and marker styles\n",
    "colors = ['dodgerblue', 'salmon', 'limegreen', 'purple', 'blue', 'red', 'green', 'orange']\n",
    "markers = ['circle', 'square', 'diamond', 'triangle-up', 'circle', 'square', 'diamond', 'triangle-up']\n",
    "labels = ['Male HD-HD', 'Male HD-LD', 'Male LD-HD', 'Male LD-LD', 'Female HD-HD', 'Female HD-LD', 'Female LD-HD', 'Female LD-LD']\n",
    "\n",
    "# Create the line plot\n",
    "fig = go.Figure()\n",
    "\n",
    "# Add traces for each category\n",
    "for i, data in enumerate([male_hh, male_hl, male_lh, male_ll, female_hh, female_hl, female_lh, female_ll]):\n",
    "    fig.add_trace(go.Scatter(\n",
    "        x=years,\n",
    "        y=data,\n",
    "        mode='lines+markers',\n",
    "        name=labels[i],\n",
    "        marker=dict(color=colors[i], symbol=markers[i], size=8),\n",
    "        line=dict(width=2)\n",
    "    ))\n",
    "\n",
    "# Set plot title and labels\n",
    "fig.update_layout(\n",
    "    title='Suicide Development for Male and Female for HD and LD countries',\n",
    "    xaxis=dict(title='Year'),\n",
    "    yaxis=dict(title='Suicide Rates'),\n",
    "    legend=dict(font=dict(size=7), orientation='h', yanchor='top', xanchor='right', x=1, y=1),\n",
    "    showlegend=True,\n",
    "    template='plotly_white'\n",
    ")\n",
    "\n",
    "# Display the plot\n",
    "fig.show()\n",
    "\n"
   ]
  },
  {
   "cell_type": "markdown",
   "id": "c3857f81-dcad-489c-a608-3f7f86e6a58e",
   "metadata": {},
   "source": [
    "> *Figure 4: Years from 2000 - 2015 on X-axis. Average suicide rate per 100k civilians on Y-axis. Figure shows the development of male- and female suicides throughout the year. Plots are represented in this format: Sex - HDI Development status - GDI Development status. HD stands for Highly Developed countries (>0.85 for HDI, 0.97 for GDI), LD stands for Lowly Developed countries (<= 0.85 for HDI, <= 0.97 for GDI). "
   ]
  },
  {
   "cell_type": "markdown",
   "id": "52d494f5",
   "metadata": {},
   "source": [
    "In this figure, countries are seperated into four categories, which separates them based on their development in HDI and GDI (see caption). The figure mostly proves our previous remarks about how countries with a high GDI tend to have an increase in male suicide. As can be seen in the figure, countries labelled as LD (low development in HDI) HD (high development in GDI) signficantly contribute to the most male suicides. The second highest male suicides originate from countries labelled as HD HD (again a high development in GDI). For women, the categories mostly show no significant difference in suicides, however low development in GDI does lead to slightly less female suicide on average (more evident when zoomed in). Most importantly of all, the figure shows that this phenomenon is not merely a 'yearly fluke', but that it has been the same throughout previous years (2000 and 2010). Ultimately, this figure again suggest that a higher GDI will lead to an increase of male suicide and a slight decrease of female suicide."
   ]
  },
  {
   "cell_type": "markdown",
   "id": "bf522e30-74ba-4774-a6a0-a94f3d827123",
   "metadata": {},
   "source": [
    "# POLITICAL PERSPECTIVE"
   ]
  },
  {
   "cell_type": "markdown",
   "id": "51f7128d-2dd5-42ff-a178-bd7d6457d749",
   "metadata": {},
   "source": [
    "This final of the data story, will analyse the relationship between indices of political development (democracy and political violence), and suicide. Democracy is often thought to be a sign of a country's development, leaving behind the ancient policies of tyranny or other unevenly balanced power relations. However, many countries follow under non-democratic policies, which lead to significanly different living conditions that influence mental health. The Political Violence Score (negative for peacefull - positive for violent) is another relevant indicator of living conditions, as more political violence is related to more war and oppression (e.g. enslavement, denial of human rights), which in order hold their own obvious influences on mental health. Therefore, this perspective is another interesting addition to this data story. Despite the common thought that democracy is a result of cultural and political improvement, this perspective will disprove that thought by showing how democratic countries tend to have more suicides on average, and even less HDI on average. "
   ]
  },
  {
   "cell_type": "markdown",
   "id": "086ec46a",
   "metadata": {},
   "source": [
    "## ARGUMENTS FOR THE POLITICAL PERSPECTIVE"
   ]
  },
  {
   "cell_type": "markdown",
   "id": "92c03261",
   "metadata": {},
   "source": [
    "Although the relationship between happiness and civilian political involvement (in terms of democracy) is a highly philosophical one, the relation between political violence and happiness is a strongly evident one (Skywood Recovery, 2018). As our data will make clear, perhaps surprising to some, democracies tend to have a higher political violence score, which through common logic decreases the average living conditions. This circumstance might be explained with the idea that democracies, as politically complex entities, engage in intense political competition which can often lead to violent conflicts as rival groups resort to coercion or violence to achieve their goals."
   ]
  },
  {
   "cell_type": "code",
   "execution_count": null,
   "id": "e6372635",
   "metadata": {
    "tags": [
     "hide-input"
    ]
   },
   "outputs": [],
   "source": [
    "import pandas as pd\n",
    "import numpy as np\n",
    "import plotly.graph_objects as go\n",
    "\n",
    "# Read the data into a DataFrame\n",
    "df = pd.read_csv('databases/MAIN DATASET.csv')\n",
    "df = df.drop('Unnamed: 0', axis=1)\n",
    "\n",
    "# Extract relevant columns\n",
    "government_types = df['government']\n",
    "hdi_values = df['HDI 2015']\n",
    "democracy_status = df['democracy']\n",
    "political_violence = df['political_violence']\n",
    "\n",
    "# Grouping average HDI and political violence values by government type and democracy status\n",
    "government_avg_hdi = {}\n",
    "government_avg_political_violence = {}\n",
    "government_democracy = {}\n",
    "for i in range(len(government_types)):\n",
    "    government_type = government_types[i]\n",
    "    hdi_value = hdi_values[i]\n",
    "    is_democracy = democracy_status[i]\n",
    "    violence_value = political_violence[i]\n",
    "    \n",
    "    if government_type not in government_avg_hdi:\n",
    "        government_avg_hdi[government_type] = []\n",
    "    government_avg_hdi[government_type].append(hdi_value)\n",
    "    \n",
    "    if government_type not in government_avg_political_violence:\n",
    "        government_avg_political_violence[government_type] = []\n",
    "    government_avg_political_violence[government_type].append(violence_value)\n",
    "\n",
    "    government_democracy[government_type] = is_democracy\n",
    "\n",
    "# Calculate average HDI and political violence values for each government type\n",
    "avg_hdi_values = [np.mean(government_avg_hdi[gt]) for gt in government_avg_hdi]\n",
    "avg_political_violence_values = [np.mean(government_avg_political_violence[gt]) for gt in government_avg_political_violence]\n",
    "\n",
    "# Sort the bars based on the average political violence values in ascending order\n",
    "sorted_indices = np.argsort(avg_political_violence_values)\n",
    "sorted_avg_hdi_values = [avg_hdi_values[i] for i in sorted_indices]\n",
    "sorted_avg_political_violence_values = [avg_political_violence_values[i] for i in sorted_indices]\n",
    "sorted_government_types = [list(government_avg_hdi.keys())[i] for i in sorted_indices]\n",
    "\n",
    "# Prepare data for plotting\n",
    "x = np.arange(len(sorted_avg_hdi_values))\n",
    "\n",
    "# Create the bar trace\n",
    "bar_trace = go.Bar(\n",
    "    x=x,\n",
    "    y=sorted_avg_hdi_values,\n",
    "    name='Average HDI',\n",
    "    marker=dict(color='blue')\n",
    ")\n",
    "\n",
    "# Create the text annotations for democracy status and political violence\n",
    "text_annotations = []\n",
    "for i, gov_type in enumerate(sorted_government_types):\n",
    "    is_democracy = government_democracy[gov_type]\n",
    "    if is_democracy == 1.0:\n",
    "        text_annotations.append(dict(\n",
    "            x=i,\n",
    "            y=-0.1,\n",
    "            text='D',\n",
    "            showarrow=False,\n",
    "            font=dict(color='green')\n",
    "        ))\n",
    "    else:\n",
    "        text_annotations.append(dict(\n",
    "            x=i,\n",
    "            y=-0.1,\n",
    "            text='ND',\n",
    "            showarrow=False,\n",
    "            font=dict(color='red')\n",
    "        ))\n",
    "    text_annotations.append(dict(\n",
    "        x=i,\n",
    "        y=-0.15,\n",
    "        text=f'{round(sorted_avg_political_violence_values[i], 1)}',\n",
    "        showarrow=False,\n",
    "        font=dict(color='black')\n",
    "    ))\n",
    "\n",
    "# Create the trendline trace\n",
    "trendline_trace = go.Scatter(\n",
    "    x=x,\n",
    "    y=np.poly1d(np.polyfit(x, sorted_avg_hdi_values, 1))(x),\n",
    "    mode='lines',\n",
    "    name='Trendline',\n",
    "    line=dict(color='red', dash='dash')\n",
    ")\n",
    "\n",
    "# Set layout\n",
    "layout = go.Layout(\n",
    "    title='Average HDI by Government / Political Violence',\n",
    "    xaxis=dict(\n",
    "        tickvals=x,\n",
    "        ticktext=sorted_government_types,\n",
    "        tickangle=-45,\n",
    "        tickfont=dict(size=10),\n",
    "        showticklabels=True\n",
    "    ),\n",
    "    yaxis=dict(title='Average HDI'),\n",
    "    annotations=text_annotations,\n",
    "    showlegend=True,\n",
    "    legend=dict(font=dict(size=10), x=1, y=1, bgcolor='rgba(0, 0, 0, 0)'),\n",
    "    template='plotly_white'\n",
    ")\n",
    "\n",
    "# Create the figure\n",
    "fig = go.Figure(data=[bar_trace, trendline_trace], layout=layout)\n",
    "\n",
    "# Display the plot\n",
    "fig.show()\n"
   ]
  },
  {
   "cell_type": "markdown",
   "id": "84271e8b-3cdf-4cad-b78e-f536ff980cba",
   "metadata": {},
   "source": [
    "> *Figure 4: Bar chart for 14 different government types. Government types on X-axis, together with average political violence score (the higher the score, the more politically violent the government type is), Democracy indice (D for Democracy, ND for Non-Democracy). Average HDI on Y-axis. Government types are sorted left to right based on political violence score (low to high). The trendline proves a negative correlation between political violence and HDI (lower political violence - higher HDI). "
   ]
  },
  {
   "cell_type": "markdown",
   "id": "9bb2eaaf",
   "metadata": {},
   "source": [
    "Figure 4 shows how democratic and non-democratic entities perform on HDI and political violence. Despite having 'decent' HDI scores of 0.8 (Parliamentiary Democracy) and 0.6 (Presidential Democracy), figure 4 shows that many other non-democratic governments are able to score high on HDI, and low on political violence. Aside from that, both democratic governments have positive political violence scores, which means that they are relatively politically violent. The idea that democracy is the only policy capable of good living conditions is hereby contradicted. Aside from this, figure 4 proves that a high HDI tends to be afflicted with a low political violence score."
   ]
  },
  {
   "cell_type": "code",
   "execution_count": null,
   "id": "3966ea55",
   "metadata": {
    "tags": [
     "hide-input"
    ]
   },
   "outputs": [],
   "source": [
    "import pandas as pd\n",
    "import plotly.graph_objects as go\n",
    "\n",
    "# Read the dataset\n",
    "df = pd.read_csv('databases/MAIN DATASET.csv')\n",
    "df = df.drop('Unnamed: 0', axis=1)\n",
    "\n",
    "# Filter the relevant columns\n",
    "df_democracy = df[df['government'].str.contains('Democracy')]\n",
    "df_non_democracy = df[~df['government'].str.contains('Democracy')]\n",
    "\n",
    "# Calculate mean values for each category\n",
    "categories = ['Average Suicide Rate', 'Political Violence']\n",
    "democracy_data = [df_democracy['Average suicide 2015'].mean(), df_democracy['political_violence'].mean()]\n",
    "non_democracy_data = [df_non_democracy['Average suicide 2015'].mean(), df_non_democracy['political_violence'].mean()]\n",
    "\n",
    "# Set up colors and styles\n",
    "bar_colors = ['#008FD5', '#FF2700']\n",
    "bar_width = 0.35\n",
    "bar_positions = list(range(len(categories)))\n",
    "\n",
    "# Create bar traces\n",
    "democracy_trace = go.Bar(\n",
    "    x=categories,\n",
    "    y=democracy_data,\n",
    "    name='Democracy',\n",
    "    marker=dict(color=bar_colors[0]),\n",
    "    width=bar_width,\n",
    "    opacity=0.8,\n",
    "    showlegend=True\n",
    ")\n",
    "\n",
    "non_democracy_trace = go.Bar(\n",
    "    x=categories,\n",
    "    y=non_democracy_data,\n",
    "    name='Non-Democracy',\n",
    "    marker=dict(color=bar_colors[1]),\n",
    "    width=bar_width,\n",
    "    opacity=0.8,\n",
    "    showlegend=True\n",
    ")\n",
    "\n",
    "# Create layout\n",
    "layout = go.Layout(\n",
    "    title='Comparison of Democracy and Non-Democracy',\n",
    "    xaxis=dict(title='Categories'),\n",
    "    yaxis=dict(title='Mean Value'),\n",
    "    barmode='group',\n",
    "    showlegend=True,\n",
    "    legend=dict(x=1, y=1, bgcolor='rgba(0, 0, 0, 0)'),\n",
    "    template='plotly_white'\n",
    ")\n",
    "\n",
    "# Create the figure\n",
    "fig = go.Figure(data=[democracy_trace, non_democracy_trace], layout=layout)\n",
    "\n",
    "# Display the plot\n",
    "fig.show()\n"
   ]
  },
  {
   "cell_type": "markdown",
   "id": "80633dca-039a-4041-bd31-135ef7eef52c",
   "metadata": {},
   "source": [
    "> *Figure 5: Bar chart for Democratic and Non-Democratic countries. Three categories on X-axis: Average Suicide per 100k civilians - Average Political Violence - Average HDI. Y-axis represents a scale for those three categories. Figure shows that on average democratic countries have more suicides, more political violence, despite having a higher HDI. 96 democratic instances / 44 non_demoncratic instances."
   ]
  },
  {
   "cell_type": "markdown",
   "id": "ec003fa6",
   "metadata": {},
   "source": [
    "Figure 5 proves that democracies tend to have more suicides than non_democracies (11.2/100k opposed to 10.3). This is not a very significant increase in suicides, but it most importantly shows that democracitic policies are not directly in line with better living conditions, or at least as measured through suicides. Aside from this, figure  also shows that democracies are indead more politically violent then non democracies."
   ]
  },
  {
   "cell_type": "markdown",
   "id": "921df77f",
   "metadata": {},
   "source": [
    "## Reflection\n",
    "\n",
    "On the draft version of the data story, we had received some feedback. \n",
    "- At first the code did not run, because we did not import the proper libraries. We quickly solved this by putting the imports and installs at the top of our notebook.\n",
    "- The first plot was not meaningful; it did not explain anything in the blink of an eye. We decided to remove the plot as a whole, and replaced it with a more meaningful graph.\n",
    "- The code-inputs were not hidden. We managed to solve this issue with some help from Teaching Assistants during phsyical classes.\n",
    "- Our Point of Views were not clear, the plots did not match one certain PoV, and the data story was not a smooth story, but it was rather unmethodically placed parts of information. To resolve this, we took a good look at our perspectives, the graphs that belong to those perspectives, and then we tried connect all pieces of loose information together into one overarching data story.\n",
    "\n",
    "During the peer feedback, we had received tips from the other two groups.\n",
    "- The graphs were hard to read, and some did not make a lot of sense. They gave examples on what would be a better and clearer understanding graph. We made sure to apply this to our graphs by adding colours, better names for the axes, which, together with the newly added captions should result in more visually appealing visualizations.\n",
    "- The combination of using the Gender Development Index (GDI) and the Gender Inequality Index (GII) made the graphs unclear whether it was a good thing that the values in the graphs raised, or a bad thing. We had therefore decided to remove GII as a whole, and only discuss GDI in the Gender Perspective. This should make are data story less confusing as a whole, and more 'simple yet meaningfull'\n",
    "- The data story did not feel like a story, but rather parts put together.\n",
    "\n",
    "We examined the feedback provided and worked on the points. Some graphs we have excluded and others we adjusted for more clarity. We worked on making the perspectives not be a separate part of the story, but more merged as a whole story."
   ]
  },
  {
   "cell_type": "markdown",
   "id": "8799e8f6",
   "metadata": {},
   "source": [
    "## Work Distribution\n",
    "\n",
    "For our project, we divided the workload among the three of us to ensure an even distribution of responsibilities. Since we do not have a fourth member in our group, we tried to divide the workload evenly. Each team member contributed to different sections of the project as follows:\n",
    "\n",
    "- Introduction: Developed by Julian\n",
    "   - Julian took the responsibility of crafting a comprehensive and engaging introduction section for the project. \n",
    "   \n",
    "- Preprocessing: Managed by Lloyd\n",
    "   - Lloyd played a key role in preprocessing the project data, cleaning and transforming it to make it suitable for analysis. He implemented data cleaning techniques, handled missing values, and ensured data integrity.\n",
    "\n",
    "- Perspectives: Divided between Julian and Lloyd\n",
    "    - Julian had worked on the first perspective, while Lloyd worked on the other two perspectives. Mitch helped with some of the visualizations like the choropleth map. \n",
    "\n",
    "- Reflection, Work Distribution & Appendix: Handled by Mitch \n",
    "    - Mitch took the lead in crafting the reflection section, providing thoughtful insights, and analyzing the outcomes and lessons learned from the project. He also took charge of the work distribution process and the appendix.\n",
    "\n",
    "By splitting the workload in this manner, we aimed to leverage each team member's strengths and ensure a balanced contribution from everyone involved. This approach allowed us to efficiently complete the project while maintaining consistency and quality across all sections."
   ]
  },
  {
   "cell_type": "markdown",
   "id": "8a61224c",
   "metadata": {},
   "source": [
    "## References\n",
    "\n",
    "# Databases\n",
    "\n",
    "- Global Suicide Data.\n",
    "https://www.kaggle.com/datasets/twinkle0705/mental-health-and-suicide-rates?select=Age-standardized+suicide+rates.csv\n",
    "\n",
    "- Global Suicide Data 2000-2019\n",
    "https://www.kaggle.com/datasets/sandragracenelson/suicide-rate-of-countries-per-every-year\n",
    "\n",
    "- Human Development Report 2015.\n",
    "https://www.kaggle.com/datasets/undp/human-development?select=human_development.csv\n",
    "\n",
    "- Government types of the world.\n",
    "https://www.kaggle.com/datasets/janzasadny/rulers-elections-and-irregular-governance\n",
    "\n",
    "# Citations\n",
    "- Recovery, S. (2018, November 5). How Oppression Contributes to Depression and Substance Use. Skywood Recovery. https://skywoodrecovery.com/resources/how-oppression-contributes-to-depression-and-substance-use/\n",
    "\n",
    "- Wise, Marilyn, and Peter Sainsbury. \"Democracy: the forgotten determinant of mental health.\" Health promotion journal of Australia 18.3 (2007): 177-183.\n"
   ]
  },
  {
   "cell_type": "markdown",
   "id": "f377761c-1ed5-440a-8c20-eaf6ab7c67bb",
   "metadata": {},
   "source": [
    "## Appendix\n",
    "\n",
    "Generative AI (ChatGPT with GPT 3.5) is used to facilitate the creation of this document, as shown in the table below.\n",
    "\n",
    "| Reasons of Usage | In which parts? | Which prompts were used? |\n",
    "| ------------------------ | --------------------------------- | -------------------------------------------- |\n",
    "| Brainstorming multiple perspectives | The entire project framing | \"Give examples of perspectives about HDI, GDI and suicide rates per country\" |\n",
    "| Graph ideas | Visualizations | \"What kind of graphs are useful for the following keywords.\"|\n",
    "| Graph generating | Visualizations | \"How can i use this graph to give a clear understanding about the following subject.\" |\n",
    "| Improving code | Visualizations and Preprocessing | \"Make this code more efficient without losing important information.\" |\n",
    "\n",
    "> *Table 1: Usage of generative AI to facilitate the creation of this document.*"
   ]
  },
  {
   "cell_type": "code",
   "execution_count": null,
   "id": "6b466069",
   "metadata": {},
   "outputs": [],
   "source": []
  }
 ],
 "metadata": {
  "celltoolbar": "Tags",
  "kernelspec": {
   "display_name": "Python 3 (ipykernel)",
   "language": "python",
   "name": "python3"
  },
  "language_info": {
   "codemirror_mode": {
    "name": "ipython",
    "version": 3
   },
   "file_extension": ".py",
   "mimetype": "text/x-python",
   "name": "python",
   "nbconvert_exporter": "python",
   "pygments_lexer": "ipython3",
   "version": "3.10.6"
  }
 },
 "nbformat": 4,
 "nbformat_minor": 5
}
