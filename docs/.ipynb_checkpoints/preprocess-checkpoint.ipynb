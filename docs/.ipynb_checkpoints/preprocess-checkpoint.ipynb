{
 "cells": [
  {
   "cell_type": "markdown",
   "id": "3b46ee32",
   "metadata": {},
   "source": [
    "# Data Preprocessing\n",
    "\n",
    "Student names: Julian Landeweerd, Lloyd de Rouw, Mitch Boontjes\n",
    "\n",
    "Team number: 58/J4"
   ]
  },
  {
   "cell_type": "markdown",
   "id": "54582175-0319-458b-b3f9-b6c8ef415196",
   "metadata": {},
   "source": [
    "The following code is used to preprocess the datasets into files that are used for the data story."
   ]
  },
  {
   "cell_type": "code",
   "execution_count": 1,
   "id": "e180382e",
   "metadata": {},
   "outputs": [],
   "source": [
    "# DATASET 1\n",
    "\n",
    "# Step 1: Import necessary libraries\n",
    "# import pandas as pd\n",
    "# import numpy as np\n",
    "\n",
    "# Step 2: Import and filter data \n",
    "# df1 = pd.read_csv('docs/databases/human_development.csv')\n",
    "# df1 = df1[['Country','Human Development Index (HDI)']]\n",
    "# df2 = pd.read_csv('docs/databases/gender_development.csv')\n",
    "# df2 = df2[['Country','Gender Development Index (GDI)']]\n",
    "# df3 = pd.read_csv('docs/databases/suiciderateall.csv')\n",
    "# df3 = df3[['Country', '2015']]\n",
    "# df3 = df3.rename(columns={'2015': 'Average suicide 2015'})\n",
    "\n",
    "# Step 3: merge \n",
    "# df = pd.merge(df, df2, on='Country')\n",
    "# df = pd.merge(df, df3, on='Country')\n",
    "\n",
    "# Step 4: Process the data for visualizations\n",
    "# df = df.rename(columns={'Gender Development Index (GDI)': 'GDI 2015', \n",
    "#     'Human Development Index (HDI)': 'HDI 2015'})\n",
    "# df = df.replace('..', np.nan).dropna()\n",
    "\n",
    "# Step 5: Save the results into files\n",
    "# df.to_csv('databases/IV DATASET 1.csv', index=False)"
   ]
  },
  {
   "cell_type": "code",
   "execution_count": null,
   "id": "5777878e-d240-4c5e-81f2-b0431f20fa22",
   "metadata": {},
   "outputs": [],
   "source": [
    "# DATASET 2\n",
    "\n",
    "# Step 1: Import necessary libraries\n",
    "# import pandas as pd\n",
    "\n",
    "# Step 2: Import and filter data \n",
    "# df = pd.read_csv('databases/suiciderateall.csv')\n",
    "\n",
    "# Step 3: Process the data for visualizations\n",
    "# df_restructured = df.melt(id_vars='Country', var_name='Year', value_name='Suicides/100k')\n",
    "# df_restructured = df_restructured.sort_values(['Country', 'Year']).reset_index(drop=True)\n",
    "\n",
    "# Step 4: Save the results into files\n",
    "# df_restructured.to_csv('docs/databases/IV DATASET 2.csv')"
   ]
  },
  {
   "cell_type": "code",
   "execution_count": null,
   "id": "9112e61f",
   "metadata": {},
   "outputs": [],
   "source": [
    "# DATASET 3\n",
    "\n",
    "# Step 1: Import necessary libraries\n",
    "# import pandas as pd\n",
    "\n",
    "# Step 2: Import and filter data \n",
    "# df = pd.read_csv('docs/databases/REIGN_2021_6.csv')\n",
    "# df = df[['country', 'year', 'gov_democracy', 'government', 'political_violence']]\n",
    "# df['country'] = df['country'].replace('Russia', 'Russian Federation')\n",
    "# df['country'] = df['country'].replace('USA', 'United States')\n",
    "# df['country'] = df['country'].replace('UKG', 'United Kingdom')\n",
    "# df['country'] = df['country'].replace('Congo-Brz', 'Congo')\n",
    "# df['country'] = df['country'].replace('St.Lucia', 'Saint Lucia')\n",
    "# df['country'] = df['country'].replace('Dominican Rep', 'Dominican Republic')\n",
    "# df['country'] = df['country'].replace('Central African Rep', 'Central African Republic')\n",
    "# df_most_recent = df.groupby('country')['year'].max().reset_index()\n",
    "\n",
    "# Step 3: merge \n",
    "# df = pd.merge(df_most_recent, df, on=['country', 'year'], how='left').drop_duplicates(subset=('country'))\n",
    "\n",
    "# Step 4: Process the data for visualizations\n",
    "# df = df.rename(columns={'country': 'Country', 'gov_democracy': 'democracy'})\n",
    "# df = df[['Country', 'democracy', 'government', 'political_violence']]\n",
    "\n",
    "# Step 5: Save the results into files\n",
    "# df.to_csv('docs/databases/IV DATASET 3.csv', index=False)"
   ]
  },
  {
   "cell_type": "code",
   "execution_count": null,
   "id": "546f5eaf",
   "metadata": {},
   "outputs": [],
   "source": [
    "# Female and Male Suicide Datasets (DATASETS 4,5)\n",
    "\n",
    "# Step 1: Import necessary libraries\n",
    "# import pandas as pd\n",
    "\n",
    "# Step 2: Import and filter data \n",
    "# df = pd.read_csv('docs/databases/Age-standardized suicide rates.csv')\n",
    "# df1 = pd.read_csv('docs/databases/IV DATASET 1.csv')\n",
    "# df1 = df1[['Country', 'GDI 2015', 'HDI 2015']]\n",
    "\n",
    "# Step 3: merge \n",
    "# df = pd.merge(df, df1, on='Country')\n",
    "\n",
    "# Step 4: Process the data for visualizations\n",
    "# df['Sex'] = df['Sex'].str.replace('female', 'F').str.replace('male', 'M')\n",
    "# female_suicides = df[df['Sex'].str.contains('fem', case=False)]\n",
    "# male_suicides = df[df['Sex'].str.contains('male', case=False)]\n",
    "\n",
    "# Step 5: Save the results into files\n",
    "# female_suicides.to_csv('docs/databases/female_suicides.csv')\n",
    "# male_suicides.to_csv('docs/databases/male_suicides.csv')"
   ]
  },
  {
   "cell_type": "code",
   "execution_count": null,
   "id": "7338d218",
   "metadata": {},
   "outputs": [],
   "source": [
    "# Main Dataset\n",
    "\n",
    "# Step 1: Import necessary libraries\n",
    "# import pandas as pd\n",
    "\n",
    "# Step 2: Import and filter data \n",
    "# df1 = pd.read_csv('docs/databases/IV DATASET 1.csv')\n",
    "# df2 = pd.read_csv('docs/databases/IV DATASET 3.csv')\n",
    "\n",
    "# Step 3: merge \n",
    "# df = pd.merge(df1, df2, on='Country')\n",
    "\n",
    "# Step 4: Save the results into files\n",
    "# df.to_csv('docs/databases/FINAL DATASET.csv')"
   ]
  }
 ],
 "metadata": {
  "celltoolbar": "Tags",
  "kernelspec": {
   "display_name": "Python 3 (ipykernel)",
   "language": "python",
   "name": "python3"
  },
  "language_info": {
   "codemirror_mode": {
    "name": "ipython",
    "version": 3
   },
   "file_extension": ".py",
   "mimetype": "text/x-python",
   "name": "python",
   "nbconvert_exporter": "python",
   "pygments_lexer": "ipython3",
   "version": "3.10.11"
  }
 },
 "nbformat": 4,
 "nbformat_minor": 5
}
