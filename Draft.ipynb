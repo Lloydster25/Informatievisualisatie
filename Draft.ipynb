{
 "cells": [
  {
   "cell_type": "markdown",
   "id": "ca67daed",
   "metadata": {},
   "source": [
    "# Introduction\n",
    "Julian"
   ]
  },
  {
   "cell_type": "markdown",
   "id": "ea0da2bf",
   "metadata": {},
   "source": [
    "# Preprocessing\n",
    "Lloyd"
   ]
  },
  {
   "cell_type": "markdown",
   "id": "5130f6a8",
   "metadata": {},
   "source": [
    "# 4 nearly finished visualizations\n",
    "\n",
    "Mitch & Julian"
   ]
  },
  {
   "cell_type": "markdown",
   "id": "435b88e9",
   "metadata": {},
   "source": [
    "# Description for each of your arguments\n",
    "Mitch & Lloyd"
   ]
  },
  {
   "cell_type": "markdown",
   "id": "c90864f9",
   "metadata": {},
   "source": []
  }
 ],
 "metadata": {
  "kernelspec": {
   "display_name": "Python 3 (ipykernel)",
   "language": "python",
   "name": "python3"
  },
  "language_info": {
   "codemirror_mode": {
    "name": "ipython",
    "version": 3
   },
   "file_extension": ".py",
   "mimetype": "text/x-python",
   "name": "python",
   "nbconvert_exporter": "python",
   "pygments_lexer": "ipython3",
   "version": "3.10.6"
  }
 },
 "nbformat": 4,
 "nbformat_minor": 5
}
