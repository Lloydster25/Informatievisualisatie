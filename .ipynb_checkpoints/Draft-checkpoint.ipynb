{
 "cells": [
  {
   "cell_type": "markdown",
   "id": "ca67daed",
   "metadata": {},
   "source": [
    "# Introduction\n",
    "Julian"
   ]
  },
  {
   "cell_type": "markdown",
   "id": "ea0da2bf",
   "metadata": {},
   "source": [
    "# Preprocessing\n",
    "\n",
    "\n",
    "Database 1 contains information about suicides in each country, as for men and women for every year between 1987 and 2016.  It would seem logical to filter for the year 2015, since this year is used in the other databases. However, the registered amount of countries for that year is only 62, which is why we have chosen to compare for the year 2013, which has 80 registered countries. The data that we are interested in (suicides/100k civilians) is categorized in a certain age group, year, and country. Male and female suicides are also separated. Based on these qualifications, two separate datasets are constructed, one male, and one female. The mean suicides/100k is then calculated for both datasets, and added as a column. Then, the male and female datasets are merged together into one, also including a male-female suicide ratio (suicides/100k male / suicides/100k female).\n",
    "\n",
    "Database 2 contains data of 185 countries, revolved around the Human Development Index (HDI)  of each country, measured in 2015 specifically. The HDI is a value between 0 and 1 (low-high) that indicates human development by looking at health, education, and standard of living. The database contains each variable that is considered for the HDI value, but we are only interested in the HDI values themselves. Thus, as for preprocessing, all columns except the country and its HDI value are removed.\n",
    "\n",
    "Database 3 is in terms of data-context identical to the first one, yet it revolves around the Gender Development Index (GDI), instead of the HDI. The GDI is also a value between 0 and 1 (low-high), that indicates equality in human development specifically between male and female. To clarify, the higher the gender equality, the higher the GDI value will be. Similarly to the preprocessing of database one, will all rows except the country and its GDI value be removed. Finally, dataset 2 and 3 are merged together based on their shared countries. Rows that include one or more ‘empty’ values are removed from the dataset.\n",
    "\n",
    "Database 4 contains the HDI values for 189 countries for each year from 1990 to 2019. As we are interested specifically in the HDI values for each country from the year 2013 (based on the argumentation above in dataset 1, all other years are filtered out. This database is then merged with database 2 to form a separate dataset. This dataset will be used to prove why the HDI values of 2015 can be compared with the suicide statistics of 2013, as the difference between the HDI values of 2013 and 2015 are insignificant. \n",
    "\n",
    "Datasets 1-4 are finally merged into one based on their shared country, which results in a dataset with 70 countries.\n",
    "\n",
    "\n",
    "\n"
   ]
  },
  {
   "cell_type": "markdown",
   "id": "5130f6a8",
   "metadata": {},
   "source": [
    "# 4 nearly finished visualizations\n",
    "\n",
    "Mitch & Julian"
   ]
  },
  {
   "cell_type": "code",
   "execution_count": 1,
   "id": "f9860050",
   "metadata": {},
   "outputs": [
    {
     "name": "stdout",
     "output_type": "stream",
     "text": [
      "/bin/bash: /home/lloyd/miniconda3/lib/libtinfo.so.6: no version information available (required by /bin/bash)\n",
      "\n",
      "CommandNotFoundError: Your shell has not been properly configured to use 'conda activate'.\n",
      "To initialize your shell, run\n",
      "\n",
      "    $ conda init <SHELL_NAME>\n",
      "\n",
      "Currently supported shells are:\n",
      "  - bash\n",
      "  - fish\n",
      "  - tcsh\n",
      "  - xonsh\n",
      "  - zsh\n",
      "  - powershell\n",
      "\n",
      "See 'conda init --help' for more information and options.\n",
      "\n",
      "IMPORTANT: You may need to close and restart your shell after running 'conda init'.\n",
      "\n",
      "\n"
     ]
    }
   ],
   "source": [
    "!conda activate myenv"
   ]
  },
  {
   "cell_type": "code",
   "execution_count": 9,
   "id": "cd6f8e21",
   "metadata": {},
   "outputs": [
    {
     "ename": "ModuleNotFoundError",
     "evalue": "No module named 'matplotlib'",
     "output_type": "error",
     "traceback": [
      "\u001b[0;31m---------------------------------------------------------------------------\u001b[0m",
      "\u001b[0;31mModuleNotFoundError\u001b[0m                       Traceback (most recent call last)",
      "Cell \u001b[0;32mIn[9], line 2\u001b[0m\n\u001b[1;32m      1\u001b[0m \u001b[38;5;28;01mimport\u001b[39;00m \u001b[38;5;21;01mpandas\u001b[39;00m \u001b[38;5;28;01mas\u001b[39;00m \u001b[38;5;21;01mpd\u001b[39;00m\n\u001b[0;32m----> 2\u001b[0m \u001b[38;5;28;01mimport\u001b[39;00m \u001b[38;5;21;01mmatplotlib\u001b[39;00m\u001b[38;5;21;01m.\u001b[39;00m\u001b[38;5;21;01mpyplot\u001b[39;00m \u001b[38;5;28;01mas\u001b[39;00m \u001b[38;5;21;01mplt\u001b[39;00m\n\u001b[1;32m      3\u001b[0m \u001b[38;5;28;01mimport\u001b[39;00m \u001b[38;5;21;01mnumpy\u001b[39;00m \u001b[38;5;28;01mas\u001b[39;00m \u001b[38;5;21;01mnp\u001b[39;00m\n\u001b[1;32m      5\u001b[0m \u001b[38;5;66;03m# Read the CSV file\u001b[39;00m\n",
      "\u001b[0;31mModuleNotFoundError\u001b[0m: No module named 'matplotlib'"
     ]
    }
   ],
   "source": [
    "import pandas as pd\n",
    "import matplotlib.pyplot as plt\n",
    "import numpy as np\n",
    "\n",
    "# Read the CSV file\n",
    "data = pd.read_csv('databases/hdi_year_comparison.csv')\n",
    "\n",
    "# Create a new DataFrame with the required columns\n",
    "df = data[['Country', 'HDI 2015', 'HDI 2013']]\n",
    "\n",
    "# Calculate the absolute difference between the two values\n",
    "df['Difference'] = np.abs(df['HDI 2015'] - df['HDI 2013'])\n",
    "\n",
    "# Convert columns to NumPy arrays\n",
    "height_diff = df['Difference'].values\n",
    "\n",
    "# Generate country numbers\n",
    "country_numbers = np.arange(1, len(df) + 1)\n",
    "\n",
    "# Plot the data\n",
    "plt.figure(figsize=(12, 6))\n",
    "\n",
    "# Plot a line for the difference without markers\n",
    "plt.plot(country_numbers, height_diff)\n",
    "\n",
    "plt.xlabel('Country')\n",
    "plt.ylabel('Difference HDI')\n",
    "plt.title('Difference HDI between 2013 and 2015')\n",
    "\n",
    "# Set x-axis tick locations and labels\n",
    "xtick_values = np.arange(0, len(df), 10)\n",
    "xtick_values[0] = 1  # Replace the first tick value with 1\n",
    "xtick_values = np.append(xtick_values, len(df))  # Add last tick value\n",
    "xtick_labels = [str(x) for x in xtick_values]\n",
    "xtick_labels[-1] = str(len(df))  # Set last tick label to the number of countries\n",
    "plt.xticks(xtick_values, xtick_labels)\n",
    "\n",
    "plt.ylim(0.00, 1)\n",
    "plt.tight_layout()\n",
    "plt.show()"
   ]
  },
  {
   "cell_type": "code",
   "execution_count": null,
   "id": "17307fde",
   "metadata": {},
   "outputs": [],
   "source": [
    "# Visualisatie 2"
   ]
  },
  {
   "cell_type": "code",
   "execution_count": null,
   "id": "cefb6199",
   "metadata": {
    "scrolled": true
   },
   "outputs": [],
   "source": [
    "import pandas as pd\n",
    "import matplotlib.pyplot as plt\n",
    "\n",
    "# Read the .csv file into a pandas DataFrame\n",
    "data = pd.read_csv('databases/Suicide_database_new.csv')\n",
    "\n",
    "# Extract the required columns\n",
    "countries = data['Country']\n",
    "male_suicides = data['suicides/100k male']\n",
    "female_suicides = data['suicides/100k female']\n",
    "\n",
    "# Calculate the ratio of male to female suicides for each country\n",
    "ratios = male_suicides / female_suicides\n",
    "\n",
    "# Remove NaN and negative values from the ratios\n",
    "ratios = ratios.dropna().replace([-float('inf'), float('inf')], pd.NA).dropna()\n",
    "\n",
    "# Calculate the average ratio\n",
    "average_ratio = ratios.mean()\n",
    "\n",
    "# Calculate the average percentage of the ratio\n",
    "average_ratio_percentage = average_ratio / (average_ratio + 1) * 100\n",
    "\n",
    "# Create the pie chart\n",
    "colors = ['#417EBB', '#FF1493']  # Slightly darker blue represented by '#417EBB\n",
    "\n",
    "\n",
    "\n",
    "labels = ['Male Suicides', 'Female Suicides']\n",
    "plt.figure(figsize=(10, 6))\n",
    "_, _, autotexts = plt.pie([average_ratio_percentage, 100 - average_ratio_percentage], labels=labels, autopct='%1.1f%%', colors=colors)\n",
    "\n",
    "# Set the color of the percentage values to white\n",
    "for autotext in autotexts:\n",
    "    autotext.set_fontsize(12)\n",
    "\n",
    "plt.title('Average Ratio of Male to Female Suicides')\n",
    "\n",
    "# Display the chart\n",
    "plt.show()        "
   ]
  },
  {
   "cell_type": "markdown",
   "id": "435b88e9",
   "metadata": {},
   "source": [
    "# Description for each of your arguments\n",
    "Mitch & Lloyd"
   ]
  },
  {
   "cell_type": "markdown",
   "id": "c90864f9",
   "metadata": {},
   "source": []
  }
 ],
 "metadata": {
  "kernelspec": {
   "display_name": "Python 3 (ipykernel)",
   "language": "python",
   "name": "python3"
  },
  "language_info": {
   "codemirror_mode": {
    "name": "ipython",
    "version": 3
   },
   "file_extension": ".py",
   "mimetype": "text/x-python",
   "name": "python",
   "nbconvert_exporter": "python",
   "pygments_lexer": "ipython3",
   "version": "3.10.6"
  }
 },
 "nbformat": 4,
 "nbformat_minor": 5
}
